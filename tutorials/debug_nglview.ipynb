{
 "cells": [
  {
   "cell_type": "code",
   "execution_count": null,
   "id": "c1c7d8b6",
   "metadata": {},
   "outputs": [],
   "source": [
    "!python --version"
   ]
  },
  {
   "cell_type": "code",
   "execution_count": null,
   "id": "2bde38ab",
   "metadata": {},
   "outputs": [],
   "source": [
    "import ipywidgets\n",
    "\n",
    "ipywidgets.__version__"
   ]
  },
  {
   "cell_type": "code",
   "execution_count": null,
   "id": "2ff29482",
   "metadata": {},
   "outputs": [],
   "source": [
    "import MDAnalysis as mda\n",
    "import nglview as nv"
   ]
  },
  {
   "cell_type": "code",
   "execution_count": null,
   "id": "1266ee97",
   "metadata": {},
   "outputs": [],
   "source": [
    "nv.__version__"
   ]
  },
  {
   "cell_type": "code",
   "execution_count": null,
   "id": "a5562835",
   "metadata": {},
   "outputs": [],
   "source": [
    "mda.__version__"
   ]
  },
  {
   "cell_type": "code",
   "execution_count": null,
   "id": "a5447c9c",
   "metadata": {},
   "outputs": [],
   "source": [
    "u = mda.Universe(\n",
    "    topology=\"/Users/xperrylinn/Desktop/demo_data/3_nvt_simulation/topology.pdb\",\n",
    "    coordinates=\"/Users/xperrylinn/Desktop/demo_data/3_nvt_simulation/trajectory.dcd\",\n",
    ")\n",
    "u"
   ]
  },
  {
   "cell_type": "code",
   "execution_count": null,
   "id": "c03c1c9f",
   "metadata": {
    "scrolled": false
   },
   "outputs": [],
   "source": [
    "view = nv.show_mdanalysis(u.atoms)\n",
    "view"
   ]
  },
  {
   "cell_type": "code",
   "execution_count": null,
   "id": "c59dd4b6",
   "metadata": {},
   "outputs": [],
   "source": []
  }
 ],
 "metadata": {
  "kernelspec": {
   "display_name": "debug_nglview",
   "language": "python",
   "name": "debug_nglview"
  },
  "language_info": {
   "codemirror_mode": {
    "name": "ipython",
    "version": 3
   },
   "file_extension": ".py",
   "mimetype": "text/x-python",
   "name": "python",
   "nbconvert_exporter": "python",
   "pygments_lexer": "ipython3",
   "version": "3.8.16"
  }
 },
 "nbformat": 4,
 "nbformat_minor": 5
}
