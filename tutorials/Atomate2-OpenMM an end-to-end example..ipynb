{
 "cells": [
  {
   "cell_type": "markdown",
   "id": "22ffcd25",
   "metadata": {},
   "source": [
    "# Exploring Physical Properties of an Electrolye"
   ]
  },
  {
   "cell_type": "markdown",
   "id": "acae9f67",
   "metadata": {},
   "source": [
    "This notebook is intended to serve as a tutorial of how to setup and execute an end-to-end a bespoke HTMD workflow using atomate2-openmm. The end-to-end example will be in terms of exploring the physical properties of a constrained randok sample of electrolyte formulations as part of a developing lithium ion batteries."
   ]
  },
  {
   "cell_type": "markdown",
   "id": "a94cf4a6",
   "metadata": {},
   "source": [
    "Let's first frame the problem. Suppose we are looking to develop an electrolyte formulaton for a lithium ion battery. Basic domain knowledge on electrolyte formulating suggest that a battery electrolyte can typically consist of components tabulated below with concentrations given in moles."
   ]
  },
  {
   "cell_type": "markdown",
   "id": "9880fedc",
   "metadata": {},
   "source": [
    "| Component                            | Concentration (number of molecules) | SMILES String          |\n",
    "|--------------------------------------|-------------------------------------|------------------------|\n",
    "| Lithium Hexafluorophosphate (LiPF6)  | 500 - 1000                          | [Li+].[F-]P(F)(F)(F)(F)F |\n",
    "| Ethylene Carbonate (EC)              | 5000 - 10000                        | CC(=O)OCC               |\n",
    "| Dimethyl Carbonate (DMC)             | 5000 - 10000                        | CC(=O)OC(=O)C            |\n",
    "| Diethyl Carbonate (DEC)              | 2000 - 5000                         | CCOC(=O)CC               |\n",
    "| Vinylene Carbonate (VC)              | 100 - 1000                          | C1C(=O)OC=C1             |\n",
    "| Fluoroethylene Carbonate (FEC)       | 100 - 1000                          | C1C(=O)OCCF1             |\n"
   ]
  },
  {
   "cell_type": "markdown",
   "id": "9e761542",
   "metadata": {},
   "source": [
    "What we would like to do is a constrained uniform random sample of 1000 random formulations electrolyte recipes and run them through an HTMD workflow using atomate2-openmm and analyze the results (for property X). To begin this process we first need to convert the collection of simulation we would like to run into the XML files that are used as simulation input. Creating XML files is cumbersome, so we can utilize pymatgen-io-openmm to generate these XML files from basic information like chemical structure and the number of molcules to include."
   ]
  },
  {
   "cell_type": "code",
   "execution_count": 2,
   "id": "d23a2a1a",
   "metadata": {},
   "outputs": [],
   "source": [
    "from pymatgen.io.openmm.generators import OpenMMSolutionGen "
   ]
  },
  {
   "cell_type": "code",
   "execution_count": 4,
   "id": "1e027f17",
   "metadata": {},
   "outputs": [],
   "source": [
    "openmm_sol_gen = OpenMMSolutionGen()"
   ]
  },
  {
   "cell_type": "code",
   "execution_count": 8,
   "id": "d3a1e41a",
   "metadata": {},
   "outputs": [
    {
     "name": "stderr",
     "output_type": "stream",
     "text": [
      "[23:27:49] Explicit valence for atom # 1 F, 2, is greater than permitted\n"
     ]
    },
    {
     "ename": "KeyError",
     "evalue": "'smile'",
     "output_type": "error",
     "traceback": [
      "\u001b[0;31m---------------------------------------------------------------------------\u001b[0m",
      "\u001b[0;31mKeyError\u001b[0m                                  Traceback (most recent call last)",
      "Cell \u001b[0;32mIn[8], line 1\u001b[0m\n\u001b[0;32m----> 1\u001b[0m openmm_set \u001b[38;5;241m=\u001b[39m \u001b[43mopenmm_sol_gen\u001b[49m\u001b[38;5;241;43m.\u001b[39;49m\u001b[43mget_input_set\u001b[49m\u001b[43m(\u001b[49m\n\u001b[1;32m      2\u001b[0m \u001b[43m    \u001b[49m\u001b[43minput_mol_dicts\u001b[49m\u001b[38;5;241;43m=\u001b[39;49m\u001b[43m[\u001b[49m\n\u001b[1;32m      3\u001b[0m \u001b[43m        \u001b[49m\u001b[43m{\u001b[49m\u001b[38;5;124;43m\"\u001b[39;49m\u001b[38;5;124;43msmile\u001b[39;49m\u001b[38;5;124;43m\"\u001b[39;49m\u001b[43m:\u001b[49m\u001b[43m \u001b[49m\u001b[38;5;124;43m\"\u001b[39;49m\u001b[38;5;124;43m[Li+].[F-]P(F)(F)(F)(F)F\u001b[39;49m\u001b[38;5;124;43m\"\u001b[39;49m\u001b[43m,\u001b[49m\u001b[43m \u001b[49m\u001b[38;5;124;43m\"\u001b[39;49m\u001b[38;5;124;43mcount\u001b[39;49m\u001b[38;5;124;43m\"\u001b[39;49m\u001b[43m:\u001b[49m\u001b[43m \u001b[49m\u001b[38;5;241;43m500\u001b[39;49m\u001b[43m}\u001b[49m\u001b[43m,\u001b[49m\n\u001b[1;32m      4\u001b[0m \u001b[43m        \u001b[49m\u001b[43m{\u001b[49m\u001b[38;5;124;43m\"\u001b[39;49m\u001b[38;5;124;43msmile\u001b[39;49m\u001b[38;5;124;43m\"\u001b[39;49m\u001b[43m:\u001b[49m\u001b[43m \u001b[49m\u001b[38;5;124;43m\"\u001b[39;49m\u001b[38;5;124;43mCC(=O)OCC\u001b[39;49m\u001b[38;5;124;43m\"\u001b[39;49m\u001b[43m,\u001b[49m\u001b[43m \u001b[49m\u001b[38;5;124;43m\"\u001b[39;49m\u001b[38;5;124;43mcount\u001b[39;49m\u001b[38;5;124;43m\"\u001b[39;49m\u001b[43m:\u001b[49m\u001b[43m \u001b[49m\u001b[38;5;241;43m5000\u001b[39;49m\u001b[43m}\u001b[49m\u001b[43m,\u001b[49m\n\u001b[1;32m      5\u001b[0m \u001b[43m        \u001b[49m\u001b[43m{\u001b[49m\u001b[38;5;124;43m\"\u001b[39;49m\u001b[38;5;124;43msmile\u001b[39;49m\u001b[38;5;124;43m\"\u001b[39;49m\u001b[43m:\u001b[49m\u001b[43m \u001b[49m\u001b[38;5;124;43m\"\u001b[39;49m\u001b[38;5;124;43mCC(=O)OC(=O)C\u001b[39;49m\u001b[38;5;124;43m\"\u001b[39;49m\u001b[43m,\u001b[49m\u001b[43m \u001b[49m\u001b[38;5;124;43m\"\u001b[39;49m\u001b[38;5;124;43mcount\u001b[39;49m\u001b[38;5;124;43m\"\u001b[39;49m\u001b[43m:\u001b[49m\u001b[43m \u001b[49m\u001b[38;5;241;43m5000\u001b[39;49m\u001b[43m}\u001b[49m\u001b[43m,\u001b[49m\n\u001b[1;32m      6\u001b[0m \u001b[43m        \u001b[49m\u001b[43m{\u001b[49m\u001b[38;5;124;43m\"\u001b[39;49m\u001b[38;5;124;43msmile\u001b[39;49m\u001b[38;5;124;43m\"\u001b[39;49m\u001b[43m:\u001b[49m\u001b[43m \u001b[49m\u001b[38;5;124;43m\"\u001b[39;49m\u001b[38;5;124;43mCCOC(=O)CC\u001b[39;49m\u001b[38;5;124;43m\"\u001b[39;49m\u001b[43m,\u001b[49m\u001b[43m \u001b[49m\u001b[38;5;124;43m\"\u001b[39;49m\u001b[38;5;124;43mcount\u001b[39;49m\u001b[38;5;124;43m\"\u001b[39;49m\u001b[43m:\u001b[49m\u001b[43m \u001b[49m\u001b[38;5;241;43m200\u001b[39;49m\u001b[43m}\u001b[49m\u001b[43m,\u001b[49m\n\u001b[1;32m      7\u001b[0m \u001b[43m        \u001b[49m\u001b[43m{\u001b[49m\u001b[38;5;124;43m\"\u001b[39;49m\u001b[38;5;124;43msmile\u001b[39;49m\u001b[38;5;124;43m\"\u001b[39;49m\u001b[43m:\u001b[49m\u001b[43m \u001b[49m\u001b[38;5;124;43m\"\u001b[39;49m\u001b[38;5;124;43mC1C(=O)OC=C1\u001b[39;49m\u001b[38;5;124;43m\"\u001b[39;49m\u001b[43m,\u001b[49m\u001b[43m \u001b[49m\u001b[38;5;124;43m\"\u001b[39;49m\u001b[38;5;124;43mcount\u001b[39;49m\u001b[38;5;124;43m\"\u001b[39;49m\u001b[43m:\u001b[49m\u001b[43m \u001b[49m\u001b[38;5;241;43m100\u001b[39;49m\u001b[43m}\u001b[49m\u001b[43m,\u001b[49m\n\u001b[1;32m      8\u001b[0m \u001b[43m        \u001b[49m\u001b[43m{\u001b[49m\u001b[38;5;124;43m\"\u001b[39;49m\u001b[38;5;124;43msmile\u001b[39;49m\u001b[38;5;124;43m\"\u001b[39;49m\u001b[43m:\u001b[49m\u001b[43m \u001b[49m\u001b[38;5;124;43m\"\u001b[39;49m\u001b[38;5;124;43mC1C(=O)OCCF1\u001b[39;49m\u001b[38;5;124;43m\"\u001b[39;49m\u001b[43m,\u001b[49m\u001b[43m \u001b[49m\u001b[38;5;124;43m\"\u001b[39;49m\u001b[38;5;124;43mcount\u001b[39;49m\u001b[38;5;124;43m\"\u001b[39;49m\u001b[43m:\u001b[49m\u001b[43m \u001b[49m\u001b[38;5;241;43m100\u001b[39;49m\u001b[43m}\u001b[49m\u001b[43m,\u001b[49m\n\u001b[1;32m      9\u001b[0m \u001b[43m    \u001b[49m\u001b[43m]\u001b[49m\u001b[43m,\u001b[49m\n\u001b[1;32m     10\u001b[0m \u001b[43m    \u001b[49m\u001b[43mdensity\u001b[49m\u001b[38;5;241;43m=\u001b[39;49m\u001b[38;5;241;43m1.0\u001b[39;49m\u001b[43m,\u001b[49m\n\u001b[1;32m     11\u001b[0m \u001b[43m)\u001b[49m\n",
      "File \u001b[0;32m~/miniconda3/envs/atomate2-openmm/lib/python3.8/site-packages/pymatgen/io/openmm/generators.py:153\u001b[0m, in \u001b[0;36mOpenMMSolutionGen.get_input_set\u001b[0;34m(self, input_mol_dicts, density, box)\u001b[0m\n\u001b[1;32m    151\u001b[0m \u001b[38;5;28;01mfor\u001b[39;00m mol_dict \u001b[38;5;129;01min\u001b[39;00m input_mol_dicts:\n\u001b[1;32m    152\u001b[0m     \u001b[38;5;28;01mif\u001b[39;00m \u001b[38;5;28misinstance\u001b[39m(mol_dict, \u001b[38;5;28mdict\u001b[39m):\n\u001b[0;32m--> 153\u001b[0m         input_mol_specs\u001b[38;5;241m.\u001b[39mappend(\u001b[43mInputMoleculeSpec\u001b[49m\u001b[43m(\u001b[49m\u001b[38;5;241;43m*\u001b[39;49m\u001b[38;5;241;43m*\u001b[39;49m\u001b[43mmol_dict\u001b[49m\u001b[43m)\u001b[49m)\n\u001b[1;32m    154\u001b[0m     \u001b[38;5;28;01melse\u001b[39;00m:\n\u001b[1;32m    155\u001b[0m         input_mol_specs\u001b[38;5;241m.\u001b[39mappend(mol_dict)\n",
      "File \u001b[0;32m~/miniconda3/envs/atomate2-openmm/lib/python3.8/site-packages/pydantic/main.py:339\u001b[0m, in \u001b[0;36mpydantic.main.BaseModel.__init__\u001b[0;34m()\u001b[0m\n",
      "File \u001b[0;32m~/miniconda3/envs/atomate2-openmm/lib/python3.8/site-packages/pydantic/main.py:1076\u001b[0m, in \u001b[0;36mpydantic.main.validate_model\u001b[0;34m()\u001b[0m\n",
      "File \u001b[0;32m~/miniconda3/envs/atomate2-openmm/lib/python3.8/site-packages/pydantic/fields.py:877\u001b[0m, in \u001b[0;36mpydantic.fields.ModelField.validate\u001b[0;34m()\u001b[0m\n",
      "File \u001b[0;32m~/miniconda3/envs/atomate2-openmm/lib/python3.8/site-packages/pydantic/fields.py:1151\u001b[0m, in \u001b[0;36mpydantic.fields.ModelField._apply_validators\u001b[0;34m()\u001b[0m\n",
      "File \u001b[0;32m~/miniconda3/envs/atomate2-openmm/lib/python3.8/site-packages/pydantic/class_validators.py:306\u001b[0m, in \u001b[0;36mpydantic.class_validators._generic_validator_cls.lambda5\u001b[0;34m()\u001b[0m\n",
      "File \u001b[0;32m~/miniconda3/envs/atomate2-openmm/lib/python3.8/site-packages/pymatgen/io/openmm/schema.py:86\u001b[0m, in \u001b[0;36mInputMoleculeSpec.set_name\u001b[0;34m(cls, name, values)\u001b[0m\n\u001b[1;32m     84\u001b[0m \u001b[38;5;250m\u001b[39m\u001b[38;5;124;03m\"\"\"assign name if not provided\"\"\"\u001b[39;00m\n\u001b[1;32m     85\u001b[0m \u001b[38;5;28;01mif\u001b[39;00m name \u001b[38;5;129;01mis\u001b[39;00m \u001b[38;5;28;01mNone\u001b[39;00m:\n\u001b[0;32m---> 86\u001b[0m     \u001b[38;5;28;01mreturn\u001b[39;00m \u001b[43mvalues\u001b[49m\u001b[43m[\u001b[49m\u001b[38;5;124;43m\"\u001b[39;49m\u001b[38;5;124;43msmile\u001b[39;49m\u001b[38;5;124;43m\"\u001b[39;49m\u001b[43m]\u001b[49m\n\u001b[1;32m     87\u001b[0m \u001b[38;5;28;01mreturn\u001b[39;00m name\n",
      "\u001b[0;31mKeyError\u001b[0m: 'smile'"
     ]
    }
   ],
   "source": [
    "openmm_set = openmm_sol_gen.get_input_set(\n",
    "    input_mol_dicts=[\n",
    "        {\"smile\": \"[Li+].[F-]P(F)(F)(F)(F)F\", \"count\": 500},\n",
    "        {\"smile\": \"CC(=O)OCC\", \"count\": 5000},\n",
    "        {\"smile\": \"CC(=O)OC(=O)C\", \"count\": 5000},\n",
    "        {\"smile\": \"CCOC(=O)CC\", \"count\": 200},\n",
    "        {\"smile\": \"C1C(=O)OC=C1\", \"count\": 100},\n",
    "        {\"smile\": \"C1C(=O)OCCF1\", \"count\": 100},\n",
    "    ],\n",
    "    density=1.0,\n",
    ")"
   ]
  },
  {
   "cell_type": "code",
   "execution_count": null,
   "id": "7c69950e",
   "metadata": {},
   "outputs": [],
   "source": []
  }
 ],
 "metadata": {
  "kernelspec": {
   "display_name": "atomate2-openmm",
   "language": "python",
   "name": "atomate2-openmm"
  },
  "language_info": {
   "codemirror_mode": {
    "name": "ipython",
    "version": 3
   },
   "file_extension": ".py",
   "mimetype": "text/x-python",
   "name": "python",
   "nbconvert_exporter": "python",
   "pygments_lexer": "ipython3",
   "version": "3.8.16"
  }
 },
 "nbformat": 4,
 "nbformat_minor": 5
}
