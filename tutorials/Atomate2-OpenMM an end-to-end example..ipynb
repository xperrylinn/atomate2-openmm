{
 "cells": [
  {
   "cell_type": "markdown",
   "id": "7c8e4e20",
   "metadata": {},
   "source": [
    "# Partial Charge Scaling of a Lithium Electrolyte"
   ]
  },
  {
   "cell_type": "markdown",
   "id": "db9b819a",
   "metadata": {},
   "source": [
    "- 10 non-random formulations in a specific order\n",
    "- Load in data from completed simulation. Meaningful simulations need to run"
   ]
  },
  {
   "cell_type": "markdown",
   "id": "4a0eb4d4",
   "metadata": {},
   "source": [
    "Study how partial charge scaling influences coordination of Lithium, Li, solute."
   ]
  },
  {
   "cell_type": "markdown",
   "id": "b79b8343",
   "metadata": {},
   "source": [
    "Define a list of partial charges to scale the charge of Li, PF6 ionic solutes:"
   ]
  },
  {
   "cell_type": "code",
   "execution_count": null,
   "id": "bf95137b",
   "metadata": {},
   "outputs": [],
   "source": [
    "partial_charge_scalers = [0.7, 0.8, 0.9, 1.0]"
   ]
  },
  {
   "cell_type": "markdown",
   "id": "0e6b9c58",
   "metadata": {},
   "source": [
    "Now create input data structures to generate an OpenMMSet for input for each charge scaling:"
   ]
  },
  {
   "cell_type": "code",
   "execution_count": 88,
   "id": "6c110508",
   "metadata": {},
   "outputs": [
    {
     "ename": "RuntimeError",
     "evalue": "BabelMolAdaptor requires openbabel to be installed with Python bindings. Please get it at http://openbabel.org (version >=3.0.0).",
     "output_type": "error",
     "traceback": [
      "\u001b[0;31m---------------------------------------------------------------------------\u001b[0m",
      "\u001b[0;31mRuntimeError\u001b[0m                              Traceback (most recent call last)",
      "Cell \u001b[0;32mIn[88], line 40\u001b[0m\n\u001b[1;32m     29\u001b[0m pf6_mols \u001b[38;5;241m=\u001b[39m InputMoleculeSpec(\n\u001b[1;32m     30\u001b[0m     smile\u001b[38;5;241m=\u001b[39m\u001b[38;5;124m\"\u001b[39m\u001b[38;5;124mF[P-](F)(F)(F)(F)F\u001b[39m\u001b[38;5;124m\"\u001b[39m,\n\u001b[1;32m     31\u001b[0m     count\u001b[38;5;241m=\u001b[39m\u001b[38;5;241m60\u001b[39m,\n\u001b[0;32m   (...)\u001b[0m\n\u001b[1;32m     35\u001b[0m     partial_charges\u001b[38;5;241m=\u001b[39m[\u001b[38;5;241m1.34\u001b[39m, \u001b[38;5;241m-\u001b[39m\u001b[38;5;241m0.39\u001b[39m, \u001b[38;5;241m-\u001b[39m\u001b[38;5;241m0.39\u001b[39m, \u001b[38;5;241m-\u001b[39m\u001b[38;5;241m0.39\u001b[39m, \u001b[38;5;241m-\u001b[39m\u001b[38;5;241m0.39\u001b[39m, \u001b[38;5;241m-\u001b[39m\u001b[38;5;241m0.39\u001b[39m, \u001b[38;5;241m-\u001b[39m\u001b[38;5;241m0.39\u001b[39m],\n\u001b[1;32m     36\u001b[0m )\n\u001b[1;32m     38\u001b[0m input_molecules \u001b[38;5;241m=\u001b[39m [ec_mols, emc_mols, dec_mols, li_mols, pf6_mols]\n\u001b[0;32m---> 40\u001b[0m \u001b[43mopenmm_set_gen\u001b[49m\u001b[38;5;241;43m.\u001b[39;49m\u001b[43mget_input_set\u001b[49m\u001b[43m(\u001b[49m\n\u001b[1;32m     41\u001b[0m \u001b[43m    \u001b[49m\u001b[43minput_mol_dicts\u001b[49m\u001b[38;5;241;43m=\u001b[39;49m\u001b[43minput_molecules\u001b[49m\u001b[43m,\u001b[49m\n\u001b[1;32m     42\u001b[0m \u001b[43m    \u001b[49m\u001b[43mdensity\u001b[49m\u001b[38;5;241;43m=\u001b[39;49m\u001b[38;5;241;43m1.154\u001b[39;49m\u001b[43m,\u001b[49m\n\u001b[1;32m     43\u001b[0m \u001b[43m\u001b[49m\u001b[43m)\u001b[49m\n",
      "File \u001b[0;32m~/miniconda3/envs/atomate2-openmm/lib/python3.8/site-packages/pymatgen/io/openmm/generators.py:162\u001b[0m, in \u001b[0;36mOpenMMSolutionGen.get_input_set\u001b[0;34m(self, input_mol_dicts, density, box)\u001b[0m\n\u001b[1;32m    159\u001b[0m \u001b[38;5;28;01mif\u001b[39;00m \u001b[38;5;28mlen\u001b[39m(smiles) \u001b[38;5;241m!=\u001b[39m \u001b[38;5;28mlen\u001b[39m(\u001b[38;5;28mset\u001b[39m(smiles)):\n\u001b[1;32m    160\u001b[0m     \u001b[38;5;28;01mraise\u001b[39;00m \u001b[38;5;167;01mValueError\u001b[39;00m(\u001b[38;5;124m\"\u001b[39m\u001b[38;5;124mSmiles in input mol dicts must be unique.\u001b[39m\u001b[38;5;124m\"\u001b[39m)\n\u001b[0;32m--> 162\u001b[0m mol_specs \u001b[38;5;241m=\u001b[39m \u001b[43mprocess_mol_specs\u001b[49m\u001b[43m(\u001b[49m\n\u001b[1;32m    163\u001b[0m \u001b[43m    \u001b[49m\u001b[43minput_mol_specs\u001b[49m\u001b[43m,\u001b[49m\u001b[43m \u001b[49m\u001b[38;5;28;43mself\u001b[39;49m\u001b[38;5;241;43m.\u001b[39;49m\u001b[43mdefault_charge_method\u001b[49m\u001b[43m,\u001b[49m\u001b[43m \u001b[49m\u001b[38;5;28;43mself\u001b[39;49m\u001b[38;5;241;43m.\u001b[39;49m\u001b[43mdefault_force_field\u001b[49m\n\u001b[1;32m    164\u001b[0m \u001b[43m\u001b[49m\u001b[43m)\u001b[49m\n\u001b[1;32m    166\u001b[0m openff_counts \u001b[38;5;241m=\u001b[39m {spec[\u001b[38;5;124m\"\u001b[39m\u001b[38;5;124mopenff_mol\u001b[39m\u001b[38;5;124m\"\u001b[39m]: spec[\u001b[38;5;124m\"\u001b[39m\u001b[38;5;124mcount\u001b[39m\u001b[38;5;124m\"\u001b[39m] \u001b[38;5;28;01mfor\u001b[39;00m spec \u001b[38;5;129;01min\u001b[39;00m mol_specs}\n\u001b[1;32m    168\u001b[0m \u001b[38;5;28;01massert\u001b[39;00m (density \u001b[38;5;129;01mis\u001b[39;00m \u001b[38;5;28;01mNone\u001b[39;00m) \u001b[38;5;241m^\u001b[39m (\n\u001b[1;32m    169\u001b[0m     box \u001b[38;5;129;01mis\u001b[39;00m \u001b[38;5;28;01mNone\u001b[39;00m\n\u001b[1;32m    170\u001b[0m ), \u001b[38;5;124m\"\u001b[39m\u001b[38;5;124mDensity OR box must be included, but not both.\u001b[39m\u001b[38;5;124m\"\u001b[39m\n",
      "File \u001b[0;32m~/miniconda3/envs/atomate2-openmm/lib/python3.8/site-packages/pymatgen/io/openmm/utils.py:599\u001b[0m, in \u001b[0;36mprocess_mol_specs\u001b[0;34m(input_mol_specs, default_charge_method, default_force_field)\u001b[0m\n\u001b[1;32m    596\u001b[0m openff_mol \u001b[38;5;241m=\u001b[39m openff\u001b[38;5;241m.\u001b[39mtoolkit\u001b[38;5;241m.\u001b[39mtopology\u001b[38;5;241m.\u001b[39mMolecule\u001b[38;5;241m.\u001b[39mfrom_smiles(mol_dict\u001b[38;5;241m.\u001b[39msmile)\n\u001b[1;32m    598\u001b[0m \u001b[38;5;66;03m# add conformers\u001b[39;00m\n\u001b[0;32m--> 599\u001b[0m openff_mol, atom_map \u001b[38;5;241m=\u001b[39m \u001b[43madd_conformers\u001b[49m\u001b[43m(\u001b[49m\n\u001b[1;32m    600\u001b[0m \u001b[43m    \u001b[49m\u001b[43mopenff_mol\u001b[49m\u001b[43m,\u001b[49m\u001b[43m \u001b[49m\u001b[43mmol_dict\u001b[49m\u001b[38;5;241;43m.\u001b[39;49m\u001b[43mgeometries\u001b[49m\u001b[43m,\u001b[49m\u001b[43m \u001b[49m\u001b[43mmol_dict\u001b[49m\u001b[38;5;241;43m.\u001b[39;49m\u001b[43mmax_conformers\u001b[49m\n\u001b[1;32m    601\u001b[0m \u001b[43m\u001b[49m\u001b[43m)\u001b[49m\n\u001b[1;32m    603\u001b[0m \u001b[38;5;66;03m# assign partial charges\u001b[39;00m\n\u001b[1;32m    604\u001b[0m charge_method \u001b[38;5;241m=\u001b[39m mol_dict\u001b[38;5;241m.\u001b[39mcharge_method \u001b[38;5;129;01mor\u001b[39;00m default_charge_method\n",
      "File \u001b[0;32m~/miniconda3/envs/atomate2-openmm/lib/python3.8/site-packages/pymatgen/io/openmm/utils.py:514\u001b[0m, in \u001b[0;36madd_conformers\u001b[0;34m(openff_mol, geometries, max_conformers)\u001b[0m\n\u001b[1;32m    512\u001b[0m \u001b[38;5;28;01mif\u001b[39;00m geometries:\n\u001b[1;32m    513\u001b[0m     \u001b[38;5;28;01mfor\u001b[39;00m geometry \u001b[38;5;129;01min\u001b[39;00m geometries:\n\u001b[0;32m--> 514\u001b[0m         inferred_mol \u001b[38;5;241m=\u001b[39m \u001b[43minfer_openff_mol\u001b[49m\u001b[43m(\u001b[49m\u001b[43mgeometry\u001b[49m\u001b[38;5;241;43m.\u001b[39;49m\u001b[43mxyz\u001b[49m\u001b[43m)\u001b[49m\n\u001b[1;32m    515\u001b[0m         is_isomorphic, atom_map \u001b[38;5;241m=\u001b[39m get_atom_map(inferred_mol, openff_mol)\n\u001b[1;32m    516\u001b[0m         \u001b[38;5;28;01mif\u001b[39;00m \u001b[38;5;129;01mnot\u001b[39;00m is_isomorphic:\n",
      "File \u001b[0;32m~/miniconda3/envs/atomate2-openmm/lib/python3.8/site-packages/pymatgen/io/openmm/utils.py:451\u001b[0m, in \u001b[0;36minfer_openff_mol\u001b[0;34m(mol_geometry)\u001b[0m\n\u001b[1;32m    438\u001b[0m \u001b[38;5;28;01mdef\u001b[39;00m \u001b[38;5;21minfer_openff_mol\u001b[39m(\n\u001b[1;32m    439\u001b[0m     mol_geometry: pymatgen\u001b[38;5;241m.\u001b[39mcore\u001b[38;5;241m.\u001b[39mMolecule,\n\u001b[1;32m    440\u001b[0m ) \u001b[38;5;241m-\u001b[39m\u001b[38;5;241m>\u001b[39m tk\u001b[38;5;241m.\u001b[39mMolecule:\n\u001b[1;32m    441\u001b[0m \u001b[38;5;250m    \u001b[39m\u001b[38;5;124;03m\"\"\"\u001b[39;00m\n\u001b[1;32m    442\u001b[0m \u001b[38;5;124;03m    Infer an OpenFF molecule from a pymatgen Molecule.\u001b[39;00m\n\u001b[1;32m    443\u001b[0m \n\u001b[0;32m   (...)\u001b[0m\n\u001b[1;32m    449\u001b[0m \n\u001b[1;32m    450\u001b[0m \u001b[38;5;124;03m    \"\"\"\u001b[39;00m\n\u001b[0;32m--> 451\u001b[0m     molgraph \u001b[38;5;241m=\u001b[39m MoleculeGraph\u001b[38;5;241m.\u001b[39mwith_local_env_strategy(mol_geometry, \u001b[43mOpenBabelNN\u001b[49m\u001b[43m(\u001b[49m\u001b[43m)\u001b[49m)\n\u001b[1;32m    452\u001b[0m     molgraph \u001b[38;5;241m=\u001b[39m metal_edge_extender(molgraph)\n\u001b[1;32m    453\u001b[0m     inferred_mol \u001b[38;5;241m=\u001b[39m molgraph_to_openff_mol(molgraph)\n",
      "File \u001b[0;32m~/miniconda3/envs/atomate2-openmm/lib/python3.8/site-packages/monty/dev.py:112\u001b[0m, in \u001b[0;36mrequires.__call__.<locals>.decorated\u001b[0;34m(*args, **kwargs)\u001b[0m\n\u001b[1;32m    109\u001b[0m \u001b[38;5;129m@functools\u001b[39m\u001b[38;5;241m.\u001b[39mwraps(_callable)\n\u001b[1;32m    110\u001b[0m \u001b[38;5;28;01mdef\u001b[39;00m \u001b[38;5;21mdecorated\u001b[39m(\u001b[38;5;241m*\u001b[39margs, \u001b[38;5;241m*\u001b[39m\u001b[38;5;241m*\u001b[39mkwargs):\n\u001b[1;32m    111\u001b[0m     \u001b[38;5;28;01mif\u001b[39;00m \u001b[38;5;129;01mnot\u001b[39;00m \u001b[38;5;28mself\u001b[39m\u001b[38;5;241m.\u001b[39mcondition:\n\u001b[0;32m--> 112\u001b[0m         \u001b[38;5;28;01mraise\u001b[39;00m \u001b[38;5;167;01mRuntimeError\u001b[39;00m(\u001b[38;5;28mself\u001b[39m\u001b[38;5;241m.\u001b[39mmessage)\n\u001b[1;32m    113\u001b[0m     \u001b[38;5;28;01mreturn\u001b[39;00m _callable(\u001b[38;5;241m*\u001b[39margs, \u001b[38;5;241m*\u001b[39m\u001b[38;5;241m*\u001b[39mkwargs)\n",
      "\u001b[0;31mRuntimeError\u001b[0m: BabelMolAdaptor requires openbabel to be installed with Python bindings. Please get it at http://openbabel.org (version >=3.0.0)."
     ]
    }
   ],
   "source": [
    "from pymatgen.io.openmm.schema import InputMoleculeSpec, Geometry\n",
    "from pymatgen.io.openmm.generators import OpenMMSolutionGen\n",
    "\n",
    "\n",
    "openmm_set_gen = OpenMMSolutionGen(default_charge_method=\"mmff94\")\n",
    "\n",
    "for charge_scaler in partial_charge_scalers:\n",
    "    ec_mols = InputMoleculeSpec(\n",
    "        smile=\"C1COC(=O)O1\",\n",
    "        count=200,\n",
    "        name=\"EC\",\n",
    "    )\n",
    "    emc_mols = InputMoleculeSpec(\n",
    "        smile=\"CCOC(=O)OC\",\n",
    "        count=400,\n",
    "        name=\"EMC\"\n",
    "    )\n",
    "    dec_mols = InputMoleculeSpec(\n",
    "        smile=\"O=C1OC[C@H](F)O1\",\n",
    "        count=50,\n",
    "        name=\"FEC\"\n",
    "    )\n",
    "    li_mols = InputMoleculeSpec(\n",
    "        smile=\"[Li+]\",\n",
    "        count=60,\n",
    "        name=\"Li\",\n",
    "        charge_scaling=charge_scaler,\n",
    "    )\n",
    "    pf6_mols = InputMoleculeSpec(\n",
    "        smile=\"F[P-](F)(F)(F)(F)F\",\n",
    "        count=60,\n",
    "        name=\"PF6\",\n",
    "        charge_scaling=charge_scaler,\n",
    "        geometries=[\"./data/PF6.xyz\"],\n",
    "        partial_charges=[1.34, -0.39, -0.39, -0.39, -0.39, -0.39, -0.39],\n",
    "    )\n",
    "    \n",
    "    input_molecules = [ec_mols, emc_mols, dec_mols, li_mols, pf6_mols]\n",
    "    \n",
    "    openmm_set_gen.get_input_set(\n",
    "        input_mol_dicts=input_molecules,\n",
    "        density=1.154,\n",
    "    )\n",
    "\n"
   ]
  },
  {
   "cell_type": "markdown",
   "id": "8885ff12",
   "metadata": {},
   "source": [
    "Now let's generate an input OpenMMSet set for each charge scaling:"
   ]
  },
  {
   "cell_type": "code",
   "execution_count": null,
   "id": "7a1b2b3c",
   "metadata": {},
   "outputs": [],
   "source": [
    "from pymatgen.io.openmm.generators import OpenMMSolutionGen\n",
    "\n"
   ]
  },
  {
   "cell_type": "code",
   "execution_count": null,
   "id": "c4f9127c",
   "metadata": {},
   "outputs": [],
   "source": [
    "from pymatgen.io.openmm.generators import OpenMMSolutionGen\n",
    "\n",
    "openmm_sol_gen = OpenMMSolutionGen(default_charge_method=\"mmff94\")\n",
    "\n",
    "def generate_random_openmm_set():\n",
    "    openmm_set = openmm_sol_gen.get_input_set(\n",
    "        input_mol_dicts=[\n",
    "    #         {\"name\": \"LiPF6\", \"smile\": \"[Li+].F[P-](F)(F)(F)(F)F\", \"count\": random.randint(50, 100)},\n",
    "            {\"name\": \"EC\", \"smile\": \"CC(=O)OCC\", \"count\": random.randint(500, 1000)},\n",
    "            {\"name\": \"DMC\", \"smile\": \"CC(=O)OC(=O)C\", \"count\": random.randint(500, 1000)},\n",
    "            {\"name\": \"DEC\", \"smile\": \"CCOC(=O)CC\", \"count\": random.randint(200, 500)},\n",
    "            {\"name\": \"VC\", \"smile\": \"C1C(=O)OC=C1\", \"count\": random.randint(10, 100)},\n",
    "    #         {\"name\": \"FEC\", \"smile\": \"C1C(=O)OCCF1\", \"count\": random.randint(10, 100)},\n",
    "        ],\n",
    "        density=1.0,\n",
    "    )\n",
    "    return openmm_set"
   ]
  },
  {
   "cell_type": "markdown",
   "id": "c87ee054",
   "metadata": {},
   "source": [
    "Now let's generate the atomate2-openmm objects to as part of the HTMD workflow."
   ]
  },
  {
   "cell_type": "code",
   "execution_count": null,
   "id": "29d3a4b0",
   "metadata": {},
   "outputs": [],
   "source": [
    "from atomate2_openmm.flows.production_maker import ProductionMaker\n",
    "from atomate2_openmm.flows.anneal_maker import AnnealMaker\n",
    "from atomate2_openmm.jobs.energy_minimization_maker import EnergyMinimizationMaker\n",
    "from atomate2_openmm.jobs.nvt_maker import NVTMaker\n",
    "from atomate2_openmm.jobs.npt_maker import NPTMaker\n",
    "from atomate2_openmm.jobs.temp_change_maker import TempChangeMaker"
   ]
  },
  {
   "cell_type": "code",
   "execution_count": null,
   "id": "9ec3fceb",
   "metadata": {},
   "outputs": [],
   "source": [
    "energy_minimization_maker = EnergyMinimizationMaker()"
   ]
  },
  {
   "cell_type": "code",
   "execution_count": null,
   "id": "5d58b043",
   "metadata": {},
   "outputs": [],
   "source": [
    "npt_maker = NPTMaker(\n",
    "    steps=100,\n",
    "    state_reporter_interval=10,\n",
    "    dcd_reporter_interval=10,\n",
    ")"
   ]
  },
  {
   "cell_type": "code",
   "execution_count": null,
   "id": "30d40fdf",
   "metadata": {},
   "outputs": [],
   "source": [
    "anneal_maker = AnnealMaker(\n",
    "    raise_temp_maker=TempChangeMaker(\n",
    "        steps=1000,\n",
    "        temp_steps=10,\n",
    "        final_temp=700,\n",
    "        state_reporter_interval=0,\n",
    "        dcd_reporter_interval=0,\n",
    "    )\n",
    ")"
   ]
  },
  {
   "cell_type": "code",
   "execution_count": null,
   "id": "b3c24e6b",
   "metadata": {},
   "outputs": [],
   "source": [
    "from maggma.stores import MongoURIStore\n",
    "from maggma.stores.aws import S3Store\n",
    "from maggma.stores import MemoryStore"
   ]
  },
  {
   "cell_type": "code",
   "execution_count": null,
   "id": "4d6e046b",
   "metadata": {},
   "outputs": [],
   "source": [
    "from jobflow import run_locally\n",
    "from jobflow import JobStore"
   ]
  },
  {
   "cell_type": "markdown",
   "id": "dfb425d3",
   "metadata": {},
   "source": [
    "# Scratch Work"
   ]
  },
  {
   "cell_type": "code",
   "execution_count": null,
   "id": "e97be85b",
   "metadata": {},
   "outputs": [],
   "source": [
    "from openff.toolkit.utils.toolkits import (\n",
    "    OpenEyeToolkitWrapper, \n",
    "    RDKitToolkitWrapper, \n",
    "    AmberToolsToolkitWrapper, \n",
    "    ToolkitRegistry,\n",
    ")\n",
    "from openff.toolkit import Molecule"
   ]
  },
  {
   "cell_type": "code",
   "execution_count": null,
   "id": "44f68349",
   "metadata": {},
   "outputs": [],
   "source": [
    "molecule = Molecule.from_smiles(smiles=\"[Li+].F[P-](F)(F)(F)(F)F\")"
   ]
  },
  {
   "cell_type": "code",
   "execution_count": null,
   "id": "27f09a6b",
   "metadata": {},
   "outputs": [],
   "source": [
    "molecule.assign_partial_charges(partial_charge_method=\"mmff94\", toolkit_registry=RDKitToolkitWrapper())"
   ]
  },
  {
   "cell_type": "code",
   "execution_count": null,
   "id": "de0585d7",
   "metadata": {},
   "outputs": [],
   "source": [
    "molecule.generate_conformers(n_conformers=1, toolkit_registry=RDKitToolkitWrapper())"
   ]
  },
  {
   "cell_type": "code",
   "execution_count": null,
   "id": "3e6981b8",
   "metadata": {},
   "outputs": [],
   "source": [
    "Molecule.from_smiles(smiles=\"[Li+].F[P-](F)(F)(F)(F)F\")"
   ]
  },
  {
   "cell_type": "code",
   "execution_count": null,
   "id": "7d2333d9",
   "metadata": {},
   "outputs": [],
   "source": [
    "Molecule.from_smiles(smiles=\"CC(=O)OCC\")"
   ]
  },
  {
   "cell_type": "code",
   "execution_count": null,
   "id": "5270ec6b",
   "metadata": {},
   "outputs": [],
   "source": [
    "Molecule.from_smiles(smiles=\"CC(=O)OC(=O)C\")"
   ]
  },
  {
   "cell_type": "code",
   "execution_count": null,
   "id": "8e59ebe6",
   "metadata": {},
   "outputs": [],
   "source": [
    "Molecule.from_smiles(smiles=\"CCOC(=O)CC\")"
   ]
  },
  {
   "cell_type": "code",
   "execution_count": null,
   "id": "43eea5c7",
   "metadata": {},
   "outputs": [],
   "source": [
    "Molecule.from_smiles(smiles=\"CC(=O)OC(=O)C\")"
   ]
  },
  {
   "cell_type": "code",
   "execution_count": null,
   "id": "cb205980",
   "metadata": {},
   "outputs": [],
   "source": [
    "Molecule.from_smiles(smiles=\"C1C(=O)OC=C1\")"
   ]
  },
  {
   "cell_type": "code",
   "execution_count": null,
   "id": "4ed7ce6a",
   "metadata": {},
   "outputs": [],
   "source": [
    "Molecule.from_smiles(smiles=\"C1C(OC(=O)O1)F\")"
   ]
  }
 ],
 "metadata": {
  "kernelspec": {
   "display_name": "atomate2-openmm",
   "language": "python",
   "name": "atomate2-openmm"
  },
  "language_info": {
   "codemirror_mode": {
    "name": "ipython",
    "version": 3
   },
   "file_extension": ".py",
   "mimetype": "text/x-python",
   "name": "python",
   "nbconvert_exporter": "python",
   "pygments_lexer": "ipython3",
   "version": "3.8.16"
  }
 },
 "nbformat": 4,
 "nbformat_minor": 5
}
