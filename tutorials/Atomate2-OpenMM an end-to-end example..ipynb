{
 "cells": [
  {
   "cell_type": "markdown",
   "id": "7c8e4e20",
   "metadata": {},
   "source": [
    "# Exploring Physical Properties of an Electrolye"
   ]
  },
  {
   "cell_type": "markdown",
   "id": "c80efa2c",
   "metadata": {},
   "source": [
    "This notebook is intended to serve as a tutorial of how to setup and execute an end-to-end a bespoke HTMD workflow using atomate2-openmm. The end-to-end example will be in terms of exploring the physical properties of a constrained randok sample of electrolyte formulations as part of a developing lithium ion batteries."
   ]
  },
  {
   "cell_type": "markdown",
   "id": "dc8271a0",
   "metadata": {},
   "source": [
    "Let's first frame the problem. Suppose we are looking to develop an electrolyte formulaton for a lithium ion battery. Basic domain knowledge on electrolyte formulating suggest that a battery electrolyte can typically consist of components tabulated below with concentrations given in moles."
   ]
  },
  {
   "cell_type": "markdown",
   "id": "ff63f31f",
   "metadata": {},
   "source": [
    "| Component                            | Concentration (moles)     | Concentration (number of molecules) | SMILES String          |\n",
    "|--------------------------------------|----------------------------|-------------------------------------|------------------------|\n",
    "| Lithium Hexafluorophosphate (LiPF6)  | 0.0010 - 0.0025           | 50 - 100                            | [Li+].F[P-](F)(F)(F)(F)F |\n",
    "| Ethylene Carbonate (EC)              | 0.0100 - 0.0250           | 500 - 1000                          | CC(=O)OCC               |\n",
    "| Dimethyl Carbonate (DMC)             | 0.0100 - 0.0250           | 500 - 1000                          | CC(=O)OC(=O)C            |\n",
    "| Diethyl Carbonate (DEC)              | 0.0040 - 0.0100           | 200 - 500                           | CCOC(=O)CC               |\n",
    "| Vinylene Carbonate (VC)              | 0.0002 - 0.0010           | 10 - 100                            | C1C(=O)OC=C1             |\n",
    "| Fluoroethylene Carbonate (FEC)       | 0.0002 - 0.0010           | 10 - 100                            | C1C(=O)OCCF1             |\n"
   ]
  },
  {
   "cell_type": "markdown",
   "id": "3fe84fc5",
   "metadata": {},
   "source": [
    "What we would like to do is a constrained uniform random sample of 10 random formulations electrolyte recipes and run them through an HTMD workflow using atomate2-openmm and analyze the results (for property X). To begin this process we first need to convert the collection of simulation we would like to run into the XML files that are used as simulation input. Creating XML files is cumbersome, so we can utilize pymatgen-io-openmm to generate these XML files from basic information like chemical structure and the number of molcules to include."
   ]
  },
  {
   "cell_type": "markdown",
   "id": "567f7d4b",
   "metadata": {},
   "source": [
    "- 10 non-random formulations in a specific order\n",
    "- Load in data from completed simulation. Meaningful simulations need to run"
   ]
  },
  {
   "cell_type": "markdown",
   "id": "7c451221",
   "metadata": {},
   "source": [
    "For convenience, let's define a helper function that will randomly sample an electroltye formulation from the 6 dimensional chemical space captured by the table above."
   ]
  },
  {
   "cell_type": "code",
   "execution_count": 56,
   "id": "c4f9127c",
   "metadata": {},
   "outputs": [],
   "source": [
    "from pymatgen.io.openmm.generators import OpenMMSolutionGen\n",
    "import random\n",
    "\n",
    "openmm_sol_gen = OpenMMSolutionGen(default_charge_method=\"mmff94\")\n",
    "\n",
    "def generate_random_openmm_set():\n",
    "    openmm_set = openmm_sol_gen.get_input_set(\n",
    "        input_mol_dicts=[\n",
    "    #         {\"name\": \"LiPF6\", \"smile\": \"[Li+].F[P-](F)(F)(F)(F)F\", \"count\": random.randint(50, 100)},\n",
    "            {\"name\": \"EC\", \"smile\": \"CC(=O)OCC\", \"count\": random.randint(500, 1000)},\n",
    "            {\"name\": \"DMC\", \"smile\": \"CC(=O)OC(=O)C\", \"count\": random.randint(500, 1000)},\n",
    "            {\"name\": \"DEC\", \"smile\": \"CCOC(=O)CC\", \"count\": random.randint(200, 500)},\n",
    "            {\"name\": \"VC\", \"smile\": \"C1C(=O)OC=C1\", \"count\": random.randint(10, 100)},\n",
    "    #         {\"name\": \"FEC\", \"smile\": \"C1C(=O)OCCF1\", \"count\": random.randint(10, 100)},\n",
    "        ],\n",
    "        density=1.0,\n",
    "    )\n",
    "    return openmm_set"
   ]
  },
  {
   "cell_type": "markdown",
   "id": "9882e2bf",
   "metadata": {},
   "source": [
    "Now let's generate the atomate2-openmm objects to as part of the HTMD workflow."
   ]
  },
  {
   "cell_type": "code",
   "execution_count": 59,
   "id": "c95c3db3",
   "metadata": {},
   "outputs": [],
   "source": [
    "from atomate2_openmm.flows.production_maker import ProductionMaker\n",
    "from atomate2_openmm.flows.anneal_maker import AnnealMaker\n",
    "from atomate2_openmm.jobs.energy_minimization_maker import EnergyMinimizationMaker\n",
    "from atomate2_openmm.jobs.nvt_maker import NVTMaker\n",
    "from atomate2_openmm.jobs.npt_maker import NPTMaker\n",
    "from atomate2_openmm.jobs.temp_change_maker import TempChangeMaker"
   ]
  },
  {
   "cell_type": "code",
   "execution_count": 61,
   "id": "eaf87080",
   "metadata": {},
   "outputs": [],
   "source": [
    "energy_minimization_maker = EnergyMinimizationMaker()"
   ]
  },
  {
   "cell_type": "code",
   "execution_count": 62,
   "id": "f6f8fbfc",
   "metadata": {},
   "outputs": [],
   "source": [
    "npt_maker = NPTMaker(\n",
    "    steps=100,\n",
    "    state_reporter_interval=10,\n",
    "    dcd_reporter_interval=10,\n",
    ")"
   ]
  },
  {
   "cell_type": "code",
   "execution_count": 63,
   "id": "00f4828a",
   "metadata": {},
   "outputs": [],
   "source": [
    "anneal_maker = AnnealMaker(\n",
    "    raise_temp_maker=TempChangeMaker(\n",
    "        steps=1000,\n",
    "        temp_steps=10,\n",
    "        final_temp=700,\n",
    "        state_reporter_interval=0,\n",
    "        dcd_reporter_interval=0,\n",
    "    )\n",
    ")"
   ]
  },
  {
   "cell_type": "code",
   "execution_count": 60,
   "id": "0ea83100",
   "metadata": {},
   "outputs": [],
   "source": [
    "from maggma.stores import MongoURIStore\n",
    "from maggma.stores.aws import S3Store\n",
    "from maggma.stores import MemoryStore"
   ]
  },
  {
   "cell_type": "code",
   "execution_count": 58,
   "id": "648c0fe4",
   "metadata": {},
   "outputs": [],
   "source": [
    "from jobflow import run_locally\n",
    "from jobflow import JobStore"
   ]
  },
  {
   "cell_type": "markdown",
   "id": "93486873",
   "metadata": {},
   "source": [
    "# Scratch Work"
   ]
  },
  {
   "cell_type": "code",
   "execution_count": 42,
   "id": "002313c4",
   "metadata": {},
   "outputs": [],
   "source": [
    "from openff.toolkit.utils.toolkits import (\n",
    "    OpenEyeToolkitWrapper, \n",
    "    RDKitToolkitWrapper, \n",
    "    AmberToolsToolkitWrapper, \n",
    "    ToolkitRegistry,\n",
    ")\n",
    "from openff.toolkit import Molecule"
   ]
  },
  {
   "cell_type": "code",
   "execution_count": 43,
   "id": "a9bab3be",
   "metadata": {},
   "outputs": [],
   "source": [
    "molecule = Molecule.from_smiles(smiles=\"[Li+].F[P-](F)(F)(F)(F)F\")"
   ]
  },
  {
   "cell_type": "code",
   "execution_count": 45,
   "id": "67337757",
   "metadata": {},
   "outputs": [
    {
     "ename": "AttributeError",
     "evalue": "'NoneType' object has no attribute 'GetMMFFPartialCharge'",
     "output_type": "error",
     "traceback": [
      "\u001b[0;31m---------------------------------------------------------------------------\u001b[0m",
      "\u001b[0;31mAttributeError\u001b[0m                            Traceback (most recent call last)",
      "Cell \u001b[0;32mIn[45], line 1\u001b[0m\n\u001b[0;32m----> 1\u001b[0m \u001b[43mmolecule\u001b[49m\u001b[38;5;241;43m.\u001b[39;49m\u001b[43massign_partial_charges\u001b[49m\u001b[43m(\u001b[49m\u001b[43mpartial_charge_method\u001b[49m\u001b[38;5;241;43m=\u001b[39;49m\u001b[38;5;124;43m\"\u001b[39;49m\u001b[38;5;124;43mmmff94\u001b[39;49m\u001b[38;5;124;43m\"\u001b[39;49m\u001b[43m,\u001b[49m\u001b[43m \u001b[49m\u001b[43mtoolkit_registry\u001b[49m\u001b[38;5;241;43m=\u001b[39;49m\u001b[43mRDKitToolkitWrapper\u001b[49m\u001b[43m(\u001b[49m\u001b[43m)\u001b[49m\u001b[43m)\u001b[49m\n",
      "File \u001b[0;32m~/miniconda3/envs/atomate2-openmm/lib/python3.8/site-packages/openff/toolkit/topology/molecule.py:2515\u001b[0m, in \u001b[0;36mFrozenMolecule.assign_partial_charges\u001b[0;34m(self, partial_charge_method, strict_n_conformers, use_conformers, toolkit_registry, normalize_partial_charges)\u001b[0m\n\u001b[1;32m   2513\u001b[0m \u001b[38;5;28;01melif\u001b[39;00m \u001b[38;5;28misinstance\u001b[39m(toolkit_registry, ToolkitWrapper):\n\u001b[1;32m   2514\u001b[0m     toolkit_wrapper: ToolkitWrapper \u001b[38;5;241m=\u001b[39m toolkit_registry\n\u001b[0;32m-> 2515\u001b[0m     \u001b[43mtoolkit_wrapper\u001b[49m\u001b[38;5;241;43m.\u001b[39;49m\u001b[43massign_partial_charges\u001b[49m\u001b[43m(\u001b[49m\u001b[43m  \u001b[49m\u001b[38;5;66;43;03m# type: ignore[attr-defined]\u001b[39;49;00m\n\u001b[1;32m   2516\u001b[0m \u001b[43m        \u001b[49m\u001b[38;5;28;43mself\u001b[39;49m\u001b[43m,\u001b[49m\n\u001b[1;32m   2517\u001b[0m \u001b[43m        \u001b[49m\u001b[43mpartial_charge_method\u001b[49m\u001b[38;5;241;43m=\u001b[39;49m\u001b[43mpartial_charge_method\u001b[49m\u001b[43m,\u001b[49m\n\u001b[1;32m   2518\u001b[0m \u001b[43m        \u001b[49m\u001b[43muse_conformers\u001b[49m\u001b[38;5;241;43m=\u001b[39;49m\u001b[43muse_conformers\u001b[49m\u001b[43m,\u001b[49m\n\u001b[1;32m   2519\u001b[0m \u001b[43m        \u001b[49m\u001b[43mstrict_n_conformers\u001b[49m\u001b[38;5;241;43m=\u001b[39;49m\u001b[43mstrict_n_conformers\u001b[49m\u001b[43m,\u001b[49m\n\u001b[1;32m   2520\u001b[0m \u001b[43m        \u001b[49m\u001b[43mnormalize_partial_charges\u001b[49m\u001b[38;5;241;43m=\u001b[39;49m\u001b[43mnormalize_partial_charges\u001b[49m\u001b[43m,\u001b[49m\n\u001b[1;32m   2521\u001b[0m \u001b[43m        \u001b[49m\u001b[43m_cls\u001b[49m\u001b[38;5;241;43m=\u001b[39;49m\u001b[38;5;28;43mself\u001b[39;49m\u001b[38;5;241;43m.\u001b[39;49m\u001b[38;5;18;43m__class__\u001b[39;49m\u001b[43m,\u001b[49m\n\u001b[1;32m   2522\u001b[0m \u001b[43m    \u001b[49m\u001b[43m)\u001b[49m\n\u001b[1;32m   2523\u001b[0m \u001b[38;5;28;01melse\u001b[39;00m:\n\u001b[1;32m   2524\u001b[0m     \u001b[38;5;28;01mraise\u001b[39;00m InvalidToolkitRegistryError(\n\u001b[1;32m   2525\u001b[0m         \u001b[38;5;124mf\u001b[39m\u001b[38;5;124m\"\u001b[39m\u001b[38;5;124mInvalid toolkit_registry passed to assign_partial_charges.\u001b[39m\u001b[38;5;124m\"\u001b[39m\n\u001b[1;32m   2526\u001b[0m         \u001b[38;5;124mf\u001b[39m\u001b[38;5;124m\"\u001b[39m\u001b[38;5;124mExpected ToolkitRegistry or ToolkitWrapper. Got  \u001b[39m\u001b[38;5;132;01m{\u001b[39;00m\u001b[38;5;28mtype\u001b[39m(toolkit_registry)\u001b[38;5;132;01m}\u001b[39;00m\u001b[38;5;124m\"\u001b[39m\n\u001b[1;32m   2527\u001b[0m     )\n",
      "File \u001b[0;32m~/miniconda3/envs/atomate2-openmm/lib/python3.8/site-packages/openff/toolkit/utils/rdkit_wrapper.py:1247\u001b[0m, in \u001b[0;36mRDKitToolkitWrapper.assign_partial_charges\u001b[0;34m(self, molecule, partial_charge_method, use_conformers, strict_n_conformers, normalize_partial_charges, _cls)\u001b[0m\n\u001b[1;32m   1243\u001b[0m \u001b[38;5;28;01mif\u001b[39;00m partial_charge_method \u001b[38;5;241m==\u001b[39m \u001b[38;5;124m\"\u001b[39m\u001b[38;5;124mmmff94\u001b[39m\u001b[38;5;124m\"\u001b[39m:\n\u001b[1;32m   1244\u001b[0m     mmff_properties \u001b[38;5;241m=\u001b[39m AllChem\u001b[38;5;241m.\u001b[39mMMFFGetMoleculeProperties(\n\u001b[1;32m   1245\u001b[0m         rdkit_molecule, \u001b[38;5;124m\"\u001b[39m\u001b[38;5;124mMMFF94\u001b[39m\u001b[38;5;124m\"\u001b[39m\n\u001b[1;32m   1246\u001b[0m     )\n\u001b[0;32m-> 1247\u001b[0m     charges \u001b[38;5;241m=\u001b[39m [\n\u001b[1;32m   1248\u001b[0m         mmff_properties\u001b[38;5;241m.\u001b[39mGetMMFFPartialCharge(i) \u001b[38;5;28;01mfor\u001b[39;00m i \u001b[38;5;129;01min\u001b[39;00m \u001b[38;5;28mrange\u001b[39m(molecule\u001b[38;5;241m.\u001b[39mn_atoms)\n\u001b[1;32m   1249\u001b[0m     ]\n\u001b[1;32m   1250\u001b[0m \u001b[38;5;28;01melif\u001b[39;00m partial_charge_method \u001b[38;5;241m==\u001b[39m \u001b[38;5;124m\"\u001b[39m\u001b[38;5;124mgasteiger\u001b[39m\u001b[38;5;124m\"\u001b[39m:\n\u001b[1;32m   1251\u001b[0m     AllChem\u001b[38;5;241m.\u001b[39mComputeGasteigerCharges(rdkit_molecule)\n",
      "File \u001b[0;32m~/miniconda3/envs/atomate2-openmm/lib/python3.8/site-packages/openff/toolkit/utils/rdkit_wrapper.py:1248\u001b[0m, in \u001b[0;36m<listcomp>\u001b[0;34m(.0)\u001b[0m\n\u001b[1;32m   1243\u001b[0m \u001b[38;5;28;01mif\u001b[39;00m partial_charge_method \u001b[38;5;241m==\u001b[39m \u001b[38;5;124m\"\u001b[39m\u001b[38;5;124mmmff94\u001b[39m\u001b[38;5;124m\"\u001b[39m:\n\u001b[1;32m   1244\u001b[0m     mmff_properties \u001b[38;5;241m=\u001b[39m AllChem\u001b[38;5;241m.\u001b[39mMMFFGetMoleculeProperties(\n\u001b[1;32m   1245\u001b[0m         rdkit_molecule, \u001b[38;5;124m\"\u001b[39m\u001b[38;5;124mMMFF94\u001b[39m\u001b[38;5;124m\"\u001b[39m\n\u001b[1;32m   1246\u001b[0m     )\n\u001b[1;32m   1247\u001b[0m     charges \u001b[38;5;241m=\u001b[39m [\n\u001b[0;32m-> 1248\u001b[0m         \u001b[43mmmff_properties\u001b[49m\u001b[38;5;241;43m.\u001b[39;49m\u001b[43mGetMMFFPartialCharge\u001b[49m(i) \u001b[38;5;28;01mfor\u001b[39;00m i \u001b[38;5;129;01min\u001b[39;00m \u001b[38;5;28mrange\u001b[39m(molecule\u001b[38;5;241m.\u001b[39mn_atoms)\n\u001b[1;32m   1249\u001b[0m     ]\n\u001b[1;32m   1250\u001b[0m \u001b[38;5;28;01melif\u001b[39;00m partial_charge_method \u001b[38;5;241m==\u001b[39m \u001b[38;5;124m\"\u001b[39m\u001b[38;5;124mgasteiger\u001b[39m\u001b[38;5;124m\"\u001b[39m:\n\u001b[1;32m   1251\u001b[0m     AllChem\u001b[38;5;241m.\u001b[39mComputeGasteigerCharges(rdkit_molecule)\n",
      "\u001b[0;31mAttributeError\u001b[0m: 'NoneType' object has no attribute 'GetMMFFPartialCharge'"
     ]
    }
   ],
   "source": [
    "molecule.assign_partial_charges(partial_charge_method=\"mmff94\", toolkit_registry=RDKitToolkitWrapper())"
   ]
  },
  {
   "cell_type": "code",
   "execution_count": 50,
   "id": "7051f915",
   "metadata": {},
   "outputs": [
    {
     "name": "stderr",
     "output_type": "stream",
     "text": [
      "[10:11:06] UFFTYPER: Warning: hybridization set to SP3 for atom 1\n",
      "[10:11:06] UFFTYPER: Unrecognized charge state for atom: 1\n",
      "[10:11:06] UFFTYPER: Warning: hybridization set to SP3 for atom 1\n",
      "[10:11:06] UFFTYPER: Unrecognized charge state for atom: 1\n"
     ]
    },
    {
     "ename": "ConformerGenerationError",
     "evalue": "RDKit conformer generation failed.",
     "output_type": "error",
     "traceback": [
      "\u001b[0;31m---------------------------------------------------------------------------\u001b[0m",
      "\u001b[0;31mConformerGenerationError\u001b[0m                  Traceback (most recent call last)",
      "Cell \u001b[0;32mIn[50], line 1\u001b[0m\n\u001b[0;32m----> 1\u001b[0m \u001b[43mmolecule\u001b[49m\u001b[38;5;241;43m.\u001b[39;49m\u001b[43mgenerate_conformers\u001b[49m\u001b[43m(\u001b[49m\u001b[43mn_conformers\u001b[49m\u001b[38;5;241;43m=\u001b[39;49m\u001b[38;5;241;43m1\u001b[39;49m\u001b[43m,\u001b[49m\u001b[43m \u001b[49m\u001b[43mtoolkit_registry\u001b[49m\u001b[38;5;241;43m=\u001b[39;49m\u001b[43mRDKitToolkitWrapper\u001b[49m\u001b[43m(\u001b[49m\u001b[43m)\u001b[49m\u001b[43m)\u001b[49m\n",
      "File \u001b[0;32m~/miniconda3/envs/atomate2-openmm/lib/python3.8/site-packages/openff/toolkit/topology/molecule.py:2184\u001b[0m, in \u001b[0;36mFrozenMolecule.generate_conformers\u001b[0;34m(self, toolkit_registry, n_conformers, rms_cutoff, clear_existing, make_carboxylic_acids_cis)\u001b[0m\n\u001b[1;32m   2182\u001b[0m \u001b[38;5;28;01melif\u001b[39;00m \u001b[38;5;28misinstance\u001b[39m(toolkit_registry, ToolkitWrapper):\n\u001b[1;32m   2183\u001b[0m     toolkit \u001b[38;5;241m=\u001b[39m toolkit_registry\n\u001b[0;32m-> 2184\u001b[0m     \u001b[38;5;28;01mreturn\u001b[39;00m \u001b[43mtoolkit\u001b[49m\u001b[38;5;241;43m.\u001b[39;49m\u001b[43mgenerate_conformers\u001b[49m\u001b[43m(\u001b[49m\u001b[43m  \u001b[49m\u001b[38;5;66;43;03m# type: ignore[attr-defined]\u001b[39;49;00m\n\u001b[1;32m   2185\u001b[0m \u001b[43m        \u001b[49m\u001b[38;5;28;43mself\u001b[39;49m\u001b[43m,\u001b[49m\n\u001b[1;32m   2186\u001b[0m \u001b[43m        \u001b[49m\u001b[43mn_conformers\u001b[49m\u001b[38;5;241;43m=\u001b[39;49m\u001b[43mn_conformers\u001b[49m\u001b[43m,\u001b[49m\n\u001b[1;32m   2187\u001b[0m \u001b[43m        \u001b[49m\u001b[43mrms_cutoff\u001b[49m\u001b[38;5;241;43m=\u001b[39;49m\u001b[43mrms_cutoff\u001b[49m\u001b[43m,\u001b[49m\n\u001b[1;32m   2188\u001b[0m \u001b[43m        \u001b[49m\u001b[43mclear_existing\u001b[49m\u001b[38;5;241;43m=\u001b[39;49m\u001b[43mclear_existing\u001b[49m\u001b[43m,\u001b[49m\n\u001b[1;32m   2189\u001b[0m \u001b[43m        \u001b[49m\u001b[43mmake_carboxylic_acids_cis\u001b[49m\u001b[38;5;241;43m=\u001b[39;49m\u001b[43mmake_carboxylic_acids_cis\u001b[49m\u001b[43m,\u001b[49m\n\u001b[1;32m   2190\u001b[0m \u001b[43m    \u001b[49m\u001b[43m)\u001b[49m\n\u001b[1;32m   2191\u001b[0m \u001b[38;5;28;01melse\u001b[39;00m:\n\u001b[1;32m   2192\u001b[0m     \u001b[38;5;28;01mraise\u001b[39;00m InvalidToolkitRegistryError(\n\u001b[1;32m   2193\u001b[0m         \u001b[38;5;124m\"\u001b[39m\u001b[38;5;124mInvalid toolkit_registry passed to generate_conformers. Expected ToolkitRegistry or ToolkitWrapper. \u001b[39m\u001b[38;5;124m\"\u001b[39m\n\u001b[1;32m   2194\u001b[0m         \u001b[38;5;124mf\u001b[39m\u001b[38;5;124m\"\u001b[39m\u001b[38;5;124mGot \u001b[39m\u001b[38;5;132;01m{\u001b[39;00m\u001b[38;5;28mtype\u001b[39m(toolkit_registry)\u001b[38;5;132;01m}\u001b[39;00m\u001b[38;5;124m\"\u001b[39m\n\u001b[1;32m   2195\u001b[0m     )\n",
      "File \u001b[0;32m~/miniconda3/envs/atomate2-openmm/lib/python3.8/site-packages/openff/toolkit/utils/rdkit_wrapper.py:1161\u001b[0m, in \u001b[0;36mRDKitToolkitWrapper.generate_conformers\u001b[0;34m(self, molecule, n_conformers, rms_cutoff, clear_existing, _cls, make_carboxylic_acids_cis)\u001b[0m\n\u001b[1;32m   1152\u001b[0m     fallback_conformer_generation_status \u001b[38;5;241m=\u001b[39m AllChem\u001b[38;5;241m.\u001b[39mEmbedMultipleConfs(\n\u001b[1;32m   1153\u001b[0m         rdmol,\n\u001b[1;32m   1154\u001b[0m         numConfs\u001b[38;5;241m=\u001b[39mn_conformers,\n\u001b[0;32m   (...)\u001b[0m\n\u001b[1;32m   1157\u001b[0m         useRandomCoords\u001b[38;5;241m=\u001b[39m\u001b[38;5;28;01mTrue\u001b[39;00m,\n\u001b[1;32m   1158\u001b[0m     )\n\u001b[1;32m   1160\u001b[0m     \u001b[38;5;28;01mif\u001b[39;00m \u001b[38;5;129;01mnot\u001b[39;00m fallback_conformer_generation_status:\n\u001b[0;32m-> 1161\u001b[0m         \u001b[38;5;28;01mraise\u001b[39;00m ConformerGenerationError(\u001b[38;5;124m\"\u001b[39m\u001b[38;5;124mRDKit conformer generation failed.\u001b[39m\u001b[38;5;124m\"\u001b[39m)\n\u001b[1;32m   1163\u001b[0m molecule2 \u001b[38;5;241m=\u001b[39m \u001b[38;5;28mself\u001b[39m\u001b[38;5;241m.\u001b[39mfrom_rdkit(\n\u001b[1;32m   1164\u001b[0m     rdmol, allow_undefined_stereo\u001b[38;5;241m=\u001b[39m\u001b[38;5;28;01mTrue\u001b[39;00m, _cls\u001b[38;5;241m=\u001b[39mmolecule\u001b[38;5;241m.\u001b[39m\u001b[38;5;18m__class__\u001b[39m\n\u001b[1;32m   1165\u001b[0m )\n\u001b[1;32m   1167\u001b[0m \u001b[38;5;28;01mif\u001b[39;00m clear_existing:\n",
      "\u001b[0;31mConformerGenerationError\u001b[0m: RDKit conformer generation failed."
     ]
    }
   ],
   "source": [
    "molecule.generate_conformers(n_conformers=1, toolkit_registry=RDKitToolkitWrapper())"
   ]
  },
  {
   "cell_type": "code",
   "execution_count": null,
   "id": "b3f1fbf2",
   "metadata": {},
   "outputs": [],
   "source": [
    "Molecule.from_smiles(smiles=\"[Li+].F[P-](F)(F)(F)(F)F\")"
   ]
  },
  {
   "cell_type": "code",
   "execution_count": null,
   "id": "6faef4c4",
   "metadata": {},
   "outputs": [],
   "source": [
    "Molecule.from_smiles(smiles=\"CC(=O)OCC\")"
   ]
  },
  {
   "cell_type": "code",
   "execution_count": null,
   "id": "365d3972",
   "metadata": {},
   "outputs": [],
   "source": [
    "Molecule.from_smiles(smiles=\"CC(=O)OC(=O)C\")"
   ]
  },
  {
   "cell_type": "code",
   "execution_count": null,
   "id": "89171c83",
   "metadata": {},
   "outputs": [],
   "source": [
    "Molecule.from_smiles(smiles=\"CCOC(=O)CC\")"
   ]
  },
  {
   "cell_type": "code",
   "execution_count": null,
   "id": "e20b2d24",
   "metadata": {},
   "outputs": [],
   "source": [
    "Molecule.from_smiles(smiles=\"CC(=O)OC(=O)C\")"
   ]
  },
  {
   "cell_type": "code",
   "execution_count": null,
   "id": "d0533845",
   "metadata": {},
   "outputs": [],
   "source": [
    "Molecule.from_smiles(smiles=\"C1C(=O)OC=C1\")"
   ]
  },
  {
   "cell_type": "code",
   "execution_count": null,
   "id": "42b02281",
   "metadata": {},
   "outputs": [],
   "source": [
    "Molecule.from_smiles(smiles=\"C1C(OC(=O)O1)F\")"
   ]
  }
 ],
 "metadata": {
  "kernelspec": {
   "display_name": "atomate2-openmm",
   "language": "python",
   "name": "atomate2-openmm"
  },
  "language_info": {
   "codemirror_mode": {
    "name": "ipython",
    "version": 3
   },
   "file_extension": ".py",
   "mimetype": "text/x-python",
   "name": "python",
   "nbconvert_exporter": "python",
   "pygments_lexer": "ipython3",
   "version": "3.8.16"
  }
 },
 "nbformat": 4,
 "nbformat_minor": 5
}
